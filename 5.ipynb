{
 "cells": [
  {
   "cell_type": "code",
   "execution_count": 1,
   "id": "efd8ed7f",
   "metadata": {},
   "outputs": [],
   "source": [
    "import numpy as np"
   ]
  },
  {
   "cell_type": "raw",
   "id": "50d3973a",
   "metadata": {},
   "source": [
    "# Define two pairs of vectors"
   ]
  },
  {
   "cell_type": "code",
   "execution_count": 2,
   "id": "6eaeca3e",
   "metadata": {},
   "outputs": [],
   "source": [
    "x1 = np.array([1, 1, 1, -1])\n",
    "y1 = np.array([1, -1])\n",
    "x2 = np.array([-1, -1, 1, 1])\n",
    "y2 = np.array([-1, 1])"
   ]
  },
  {
   "cell_type": "raw",
   "id": "177e1d3e",
   "metadata": {},
   "source": [
    "# Compute weight matrix W using Hebbian learning (outer product rule)"
   ]
  },
  {
   "cell_type": "code",
   "execution_count": 3,
   "id": "91c7431f",
   "metadata": {},
   "outputs": [],
   "source": [
    "W = np.outer(y1, x1) + np.outer(y2, x2)"
   ]
  },
  {
   "cell_type": "raw",
   "id": "44313011",
   "metadata": {},
   "source": [
    "# Define BAM function"
   ]
  },
  {
   "cell_type": "code",
   "execution_count": 4,
   "id": "50a93e34",
   "metadata": {},
   "outputs": [],
   "source": [
    "def bam(x):\n",
    "    y = np.dot(W, x)\n",
    "    y = np.where(y >= 0, 1, -1)\n",
    "    return y"
   ]
  },
  {
   "cell_type": "raw",
   "id": "1e46db4b",
   "metadata": {},
   "source": [
    "# Test BAM with an input vector"
   ]
  },
  {
   "cell_type": "code",
   "execution_count": 5,
   "id": "d1389e79",
   "metadata": {},
   "outputs": [],
   "source": [
    "x_test = np.array([1, -1, -1, -1])\n",
    "y_test = bam(x_test)"
   ]
  },
  {
   "cell_type": "raw",
   "id": "b877acb4",
   "metadata": {},
   "source": [
    "# Print results"
   ]
  },
  {
   "cell_type": "code",
   "execution_count": 6,
   "id": "1aa3d0ec",
   "metadata": {},
   "outputs": [
    {
     "name": "stdout",
     "output_type": "stream",
     "text": [
      "Input x:  [ 1 -1 -1 -1]\n",
      "Output y: [ 1 -1]\n"
     ]
    }
   ],
   "source": [
    "print(\"Input x: \", x_test)\n",
    "print(\"Output y:\", y_test)"
   ]
  }
 ],
 "metadata": {
  "kernelspec": {
   "display_name": "Python 3 (ipykernel)",
   "language": "python",
   "name": "python3"
  },
  "language_info": {
   "codemirror_mode": {
    "name": "ipython",
    "version": 3
   },
   "file_extension": ".py",
   "mimetype": "text/x-python",
   "name": "python",
   "nbconvert_exporter": "python",
   "pygments_lexer": "ipython3",
   "version": "3.9.12"
  }
 },
 "nbformat": 4,
 "nbformat_minor": 5
}
