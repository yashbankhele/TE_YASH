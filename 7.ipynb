{
 "cells": [
  {
   "cell_type": "code",
   "execution_count": 1,
   "id": "77093ff8",
   "metadata": {},
   "outputs": [
    {
     "name": "stdout",
     "output_type": "stream",
     "text": [
      "[[0.50036743]\n",
      " [0.98720047]\n",
      " [0.49931667]\n",
      " [0.01530738]]\n"
     ]
    }
   ],
   "source": [
    "import numpy as np\n",
    "\n",
    "class XORNetwork:\n",
    "    def __init__(self):\n",
    "        # Initialize the weights and biases randomly\n",
    "        self.W1 = np.random.randn(2, 2)\n",
    "        self.b1 = np.random.randn(2)\n",
    "        self.W2 = np.random.randn(2, 1)\n",
    "        self.b2 = np.random.randn(1)\n",
    "\n",
    "    def sigmoid(self, x):\n",
    "        return 1 / (1 + np.exp(-x))\n",
    "\n",
    "    def sigmoid_derivative(self, x):\n",
    "        return x * (1 - x)\n",
    "\n",
    "    def forward(self, X):\n",
    "        # Perform the forward pass\n",
    "        self.z1 = np.dot(X, self.W1) + self.b1\n",
    "        self.a1 = self.sigmoid(self.z1)\n",
    "        self.z2 = np.dot(self.a1, self.W2) + self.b2\n",
    "        self.a2 = self.sigmoid(self.z2)\n",
    "        return self.a2\n",
    "\n",
    "    def backward(self, X, y, output):\n",
    "        # Perform the backward pass\n",
    "        self.output_error = y - output\n",
    "        self.output_delta = self.output_error * self.sigmoid_derivative(output)\n",
    "\n",
    "        self.z1_error = self.output_delta.dot(self.W2.T)\n",
    "        self.z1_delta = self.z1_error * self.sigmoid_derivative(self.a1)\n",
    "\n",
    "        self.W1 += X.T.dot(self.z1_delta)\n",
    "        self.b1 += np.sum(self.z1_delta, axis=0)\n",
    "        self.W2 += self.a1.T.dot(self.output_delta)\n",
    "        self.b2 += np.sum(self.output_delta, axis=0)\n",
    "\n",
    "    def train(self, X, y, epochs):\n",
    "        # Train the network for a given number of epochs\n",
    "        for i in range(epochs):\n",
    "            output = self.forward(X)\n",
    "            self.backward(X, y, output)\n",
    "\n",
    "    def predict(self, X):\n",
    "        # Make predictions for a given set of inputs\n",
    "        return self.forward(X)\n",
    "\n",
    "# Create a new XORNetwork instance\n",
    "xor_nn = XORNetwork()\n",
    "\n",
    "# Define the input and output datasets for XOR\n",
    "X = np.array([[0, 0], [0, 1], [1, 0], [1, 1]])\n",
    "y = np.array([[0], [1], [1], [0]])\n",
    "\n",
    "# Train the network for 10000 epochs\n",
    "xor_nn.train(X, y, epochs=10000)\n",
    "\n",
    "# Make predictions on the input dataset\n",
    "predictions = xor_nn.predict(X)\n",
    "\n",
    "# Print the predictions\n",
    "print(predictions)\n"
   ]
  },
  {
   "cell_type": "code",
   "execution_count": null,
   "id": "0e73f13b",
   "metadata": {},
   "outputs": [],
   "source": []
  }
 ],
 "metadata": {
  "kernelspec": {
   "display_name": "Python 3 (ipykernel)",
   "language": "python",
   "name": "python3"
  },
  "language_info": {
   "codemirror_mode": {
    "name": "ipython",
    "version": 3
   },
   "file_extension": ".py",
   "mimetype": "text/x-python",
   "name": "python",
   "nbconvert_exporter": "python",
   "pygments_lexer": "ipython3",
   "version": "3.9.12"
  }
 },
 "nbformat": 4,
 "nbformat_minor": 5
}
