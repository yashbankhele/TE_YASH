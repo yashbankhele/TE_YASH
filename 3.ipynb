{
 "cells": [
  {
   "cell_type": "code",
   "execution_count": 1,
   "id": "5e2ac019",
   "metadata": {},
   "outputs": [
    {
     "name": "stdout",
     "output_type": "stream",
     "text": [
      "[0 0 0 0 0 0 1 0 0 0] is even\n",
      "[0 0 0 0 0 0 0 1 0 0] is odd\n",
      "[0 0 0 0 0 0 0 0 1 0] is even\n",
      "[0 0 0 0 0 0 0 0 0 1] is odd\n",
      "[0 0 0 0 0 0 1 1 0 0] is even\n",
      "[0 0 0 0 0 0 1 0 1 0] is even\n",
      "[0 0 0 0 0 0 1 1 1 0] is even\n",
      "[0 0 0 0 0 0 1 1 1 1] is even\n",
      "[0 0 0 0 0 0 1 0 1 1] is even\n",
      "[0 0 0 0 0 0 0 1 1 1] is odd\n"
     ]
    }
   ],
   "source": [
    "import numpy as np\n",
    "\n",
    "# Define the perceptron class\n",
    "class Perceptron:\n",
    "    def __init__(self, input_size, lr=0.1): \n",
    "        self.W = np.zeros(input_size + 1)  # +1 for bias\n",
    "        self.lr = lr\n",
    "\n",
    "    def activation_fn(self, x): \n",
    "        return 1 if x >= 0 else 0\n",
    "\n",
    "    def predict(self, x):\n",
    "        x = np.insert(x, 0, 1)  # Add bias input\n",
    "        z = self.W.T.dot(x)\n",
    "        a = self.activation_fn(z) \n",
    "        return a\n",
    "\n",
    "    def train(self, X, Y, epochs): \n",
    "        for _ in range(epochs):\n",
    "            for i in range(Y.shape[0]): \n",
    "                x = X[i]\n",
    "                y = self.predict(x) \n",
    "                e = Y[i] - y\n",
    "                self.W = self.W + self.lr * e * np.insert(x, 0, 1)\n",
    "\n",
    "# Define the input data and labels \n",
    "X = np.array([\n",
    "    [0,0,0,0,0,0,1,0,0,0], # 0\n",
    "    [0,0,0,0,0,0,0,1,0,0], # 1\n",
    "    [0,0,0,0,0,0,0,0,1,0], # 2\n",
    "    [0,0,0,0,0,0,0,0,0,1], # 3\n",
    "    [0,0,0,0,0,0,1,1,0,0], # 4\n",
    "    [0,0,0,0,0,0,1,0,1,0], # 5\n",
    "    [0,0,0,0,0,0,1,1,1,0], # 6\n",
    "    [0,0,0,0,0,0,1,1,1,1], # 7\n",
    "    [0,0,0,0,0,0,1,0,1,1], # 8\n",
    "    [0,0,0,0,0,0,0,1,1,1], # 9\n",
    "])\n",
    "Y = np.array([0, 1, 0, 1, 0, 1, 0, 1, 0, 1])  # even = 0, odd = 1\n",
    "\n",
    "# Create and train the perceptron \n",
    "perceptron = Perceptron(input_size=10)\n",
    "perceptron.train(X, Y, epochs=100)\n",
    "\n",
    "# Test data (same as training in this case)\n",
    "test_X = np.array([\n",
    "    [0,0,0,0,0,0,1,0,0,0], # 0\n",
    "    [0,0,0,0,0,0,0,1,0,0], # 1\n",
    "    [0,0,0,0,0,0,0,0,1,0], # 2\n",
    "    [0,0,0,0,0,0,0,0,0,1], # 3\n",
    "    [0,0,0,0,0,0,1,1,0,0], # 4\n",
    "    [0,0,0,0,0,0,1,0,1,0], # 5\n",
    "    [0,0,0,0,0,0,1,1,1,0], # 6\n",
    "    [0,0,0,0,0,0,1,1,1,1], # 7\n",
    "    [0,0,0,0,0,0,1,0,1,1], # 8\n",
    "    [0,0,0,0,0,0,0,1,1,1], # 9\n",
    "])\n",
    "\n",
    "# Make predictions\n",
    "for i in range(test_X.shape[0]):\n",
    "    x = test_X[i]\n",
    "    y = perceptron.predict(x)\n",
    "    print(f'{x} is {\"even\" if y == 0 else \"odd\"}')\n"
   ]
  }
 ],
 "metadata": {
  "kernelspec": {
   "display_name": "Python 3 (ipykernel)",
   "language": "python",
   "name": "python3"
  },
  "language_info": {
   "codemirror_mode": {
    "name": "ipython",
    "version": 3
   },
   "file_extension": ".py",
   "mimetype": "text/x-python",
   "name": "python",
   "nbconvert_exporter": "python",
   "pygments_lexer": "ipython3",
   "version": "3.9.12"
  }
 },
 "nbformat": 4,
 "nbformat_minor": 5
}
