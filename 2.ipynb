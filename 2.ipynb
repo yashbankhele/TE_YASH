{
 "cells": [
  {
   "cell_type": "raw",
   "id": "020960ae",
   "metadata": {},
   "source": [
    "# importing libraries "
   ]
  },
  {
   "cell_type": "code",
   "execution_count": 1,
   "id": "3a30814c",
   "metadata": {},
   "outputs": [],
   "source": [
    "import numpy as np"
   ]
  },
  {
   "cell_type": "raw",
   "id": "653e8c8f",
   "metadata": {},
   "source": [
    "# function of checking thresold value "
   ]
  },
  {
   "cell_type": "code",
   "execution_count": 2,
   "id": "49ae6430",
   "metadata": {},
   "outputs": [],
   "source": [
    "def linear_threshold_gate(dot, T):\n",
    "    '''Returns the binary threshold output''' \n",
    "    if dot >= T: \n",
    "        return 1 \n",
    "    else:\n",
    "        return 0"
   ]
  },
  {
   "cell_type": "raw",
   "id": "42f9cbf2",
   "metadata": {},
   "source": [
    "# matrix of inputs"
   ]
  },
  {
   "cell_type": "code",
   "execution_count": 3,
   "id": "bee96268",
   "metadata": {},
   "outputs": [],
   "source": [
    "input_table = np.array([\n",
    "    [0,0], # both no\n",
    "    [0,1], # one no, one yes \n",
    "    [1,0], # one yes, one no \n",
    "    [1,1] # bot yes\n",
    "])\n"
   ]
  },
  {
   "cell_type": "code",
   "execution_count": 4,
   "id": "34d3e0cc",
   "metadata": {},
   "outputs": [
    {
     "name": "stdout",
     "output_type": "stream",
     "text": [
      "input table:\n",
      "[[0 0]\n",
      " [0 1]\n",
      " [1 0]\n",
      " [1 1]]\n"
     ]
    }
   ],
   "source": [
    "print(f'input table:\\n{input_table}') "
   ]
  },
  {
   "cell_type": "code",
   "execution_count": 5,
   "id": "9e4d2453",
   "metadata": {},
   "outputs": [],
   "source": [
    "weights = np.array([1,-1])"
   ]
  },
  {
   "cell_type": "code",
   "execution_count": 6,
   "id": "8b3ea2e7",
   "metadata": {},
   "outputs": [],
   "source": [
    "dot_products = input_table @ weights"
   ]
  },
  {
   "cell_type": "code",
   "execution_count": 7,
   "id": "82720fb9",
   "metadata": {},
   "outputs": [
    {
     "name": "stdout",
     "output_type": "stream",
     "text": [
      "Activation: 0\n",
      "Activation: 0\n",
      "Activation: 1\n",
      "Activation: 0\n"
     ]
    }
   ],
   "source": [
    "T = 1\n",
    "for i in range(0,4):\n",
    "    activation = linear_threshold_gate(dot_products[i], T)\n",
    "    print(f'Activation: {activation}')"
   ]
  }
 ],
 "metadata": {
  "kernelspec": {
   "display_name": "Python 3 (ipykernel)",
   "language": "python",
   "name": "python3"
  },
  "language_info": {
   "codemirror_mode": {
    "name": "ipython",
    "version": 3
   },
   "file_extension": ".py",
   "mimetype": "text/x-python",
   "name": "python",
   "nbconvert_exporter": "python",
   "pygments_lexer": "ipython3",
   "version": "3.9.12"
  }
 },
 "nbformat": 4,
 "nbformat_minor": 5
}
