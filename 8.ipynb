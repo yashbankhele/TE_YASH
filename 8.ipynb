{
 "cells": [
  {
   "cell_type": "code",
   "execution_count": 1,
   "id": "3e01b50d",
   "metadata": {},
   "outputs": [
    {
     "name": "stdout",
     "output_type": "stream",
     "text": [
      "Input:\n",
      "[[0 0]\n",
      " [0 1]\n",
      " [1 0]\n",
      " [1 1]]\n",
      "Predicted Output after training:\n",
      "[[0.033]\n",
      " [0.931]\n",
      " [0.931]\n",
      " [0.092]]\n",
      "Expected Output:\n",
      "[[0]\n",
      " [1]\n",
      " [1]\n",
      " [0]]\n"
     ]
    }
   ],
   "source": [
    "import numpy as np\n",
    "\n",
    "# Sigmoid activation function\n",
    "def sigmoid(x):\n",
    "    return 1 / (1 + np.exp(-x))\n",
    "\n",
    "# Derivative of sigmoid\n",
    "def sigmoid_derivative(x):\n",
    "    return x * (1 - x)\n",
    "\n",
    "# Input dataset (XOR inputs)\n",
    "X = np.array([[0,0], [0,1], [1,0], [1,1]])\n",
    "\n",
    "# Output dataset (XOR outputs)\n",
    "y = np.array([[0], [1], [1], [0]])\n",
    "\n",
    "# Hyperparameters\n",
    "learning_rate = 0.1\n",
    "num_epochs = 100000\n",
    "\n",
    "# Initialize weights randomly with mean 0\n",
    "hidden_weights = 2 * np.random.random((2, 2)) - 1\n",
    "output_weights = 2 * np.random.random((2, 1)) - 1\n",
    "\n",
    "# Training loop\n",
    "for i in range(num_epochs):\n",
    "    # Forward propagation\n",
    "    hidden_layer = sigmoid(np.dot(X, hidden_weights))\n",
    "    output_layer = sigmoid(np.dot(hidden_layer, output_weights))\n",
    "\n",
    "    # Backpropagation\n",
    "    output_error = y - output_layer\n",
    "    output_delta = output_error * sigmoid_derivative(output_layer)\n",
    "\n",
    "    hidden_error = output_delta.dot(output_weights.T)\n",
    "    hidden_delta = hidden_error * sigmoid_derivative(hidden_layer)\n",
    "\n",
    "    # Update weights\n",
    "    output_weights += hidden_layer.T.dot(output_delta) * learning_rate\n",
    "    hidden_weights += X.T.dot(hidden_delta) * learning_rate\n",
    "\n",
    "# Print final results\n",
    "print(\"Input:\")\n",
    "print(X)\n",
    "\n",
    "print(\"Predicted Output after training:\")\n",
    "print(np.round(output_layer, 3))\n",
    "\n",
    "print(\"Expected Output:\")\n",
    "print(y)\n"
   ]
  },
  {
   "cell_type": "code",
   "execution_count": null,
   "id": "b385235b",
   "metadata": {},
   "outputs": [],
   "source": []
  }
 ],
 "metadata": {
  "kernelspec": {
   "display_name": "Python 3 (ipykernel)",
   "language": "python",
   "name": "python3"
  },
  "language_info": {
   "codemirror_mode": {
    "name": "ipython",
    "version": 3
   },
   "file_extension": ".py",
   "mimetype": "text/x-python",
   "name": "python",
   "nbconvert_exporter": "python",
   "pygments_lexer": "ipython3",
   "version": "3.9.12"
  }
 },
 "nbformat": 4,
 "nbformat_minor": 5
}
